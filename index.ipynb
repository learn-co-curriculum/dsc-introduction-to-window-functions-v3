{
 "cells": [
  {
   "cell_type": "markdown",
   "metadata": {},
   "source": [
    "# Introduction to Window Functions\n",
    "\n",
    "## Introduction\n",
    "We'll be going over how to apply window functions in SQL to solve complex problems. Window functions help users to perform calculations against partitions over some window. Unlike traditional aggregation functions that outputs a single value for the entire operation, window functions return a signle value for each interval.\n",
    "\n",
    "## Objectives\n",
    "- Introduce various aggregate functions, like `SUM()`, `MIN()`, `MAX()\n",
    "- Introduce various window functions, like `PARTITION BY()`"
   ]
  },
  {
   "cell_type": "markdown",
   "metadata": {},
   "source": [
    "### What are window functions?\n",
    "\n",
    "[This]([https://www.postgresql.org/docs/9.1/tutorial-window.html]) definition from PostgreSQL does a great job on defining what ~window functions~ are. \n",
    "\n",
    "_A window function performs a calculation across a set of table rows that are somehow related to the current row. This is comparable to the type of calculation that can be done with an aggregate function. But unlike regular aggregate functions, use of a window function does not cause rows to become grouped into a single output row — the rows retain their separate identities. Behind the scenes, the window function is able to access more than just the current row of the query result._\n",
    "\n",
    "A general syntax for a window function looks like below:\n",
    "```\n",
    "SELECT coulmn_name1, \n",
    " window_function(cloumn_name2)\n",
    " OVER([PARTITION BY column_name1] [ORDER BY column_name3]) AS new_column\n",
    "FROM table_name;\n",
    "```\n",
    "\n",
    "Window functions applies aggregate or ranking functions over a particular _window_ (set of rows). _OVER_ clause is used with window functions to define those set of rows. _OVER_ does two things:\n",
    "- Partitions rows into define set of rows (_PARTITION BY_)\n",
    "- Orders rows in a particular order (_ORDER BY_)\n"
   ]
  },
  {
   "cell_type": "markdown",
   "metadata": {},
   "source": [
    "### Aggregate Window Functions\n",
    "There are various aggregate functions such as `SUM()`, `COUNT()`, `AVERAGE()`, `MAX()`, and `MIN()` that can be applied over a particular window. These do not need to have _OVER_ clause and can be used independently. For example,\n",
    "```\n",
    "SELECT COUNT(*) FROM table_name;\n",
    "```\n",
    "will return the total number of rows of that `table_name`. `SUM()`, `AVERAGE()`, `MAX()`, and `MIN()` can be applied over integer or float columns. \n",
    "\n",
    "Let's get comfortable with these functions before applying _OVER_ clause for window functions.\n",
    "\n",
    "Navigate to [db-fiddle]([https://www.db-fiddle.com/]) and select SQLite at the top left corner, then paste below DDL in the left panel.\n",
    "\n",
    "```\n",
    "CREATE TABLE EMPLOYEE (\n",
    "  id INTEGER PRIMARY KEY,\n",
    "  name TEXT,\n",
    "  department TEXT,\n",
    "  salary INTEGER\n",
    ");\n",
    "\n",
    "INSERT INTO EMPLOYEE VALUES (1, \"Javier\", \"IT\", 87000);\n",
    "INSERT INTO EMPLOYEE VALUES (2, \"Michael\", \"IT\", 73200);\n",
    "INSERT INTO EMPLOYEE VALUES (3, \"Jenitha\", \"HR\", 45000);\n",
    "INSERT INTO EMPLOYEE VALUES (4, \"Ross\", \"IT\", 62000);\n",
    "INSERT INTO EMPLOYEE VALUES (5, \"Scott\", \"Finance\", 52000);\n",
    "INSERT INTO EMPLOYEE VALUES (6, \"Ella\", \"Finance\", 67000);\n",
    "INSERT INTO EMPLOYEE VALUES (7, \"Adam\", \"IT\", 98000);\n",
    "INSERT INTO EMPLOYEE VALUES (8, \"Kenneth\", \"IT\", 45400);\n",
    "```\n",
    "Then execute \n",
    "```\n",
    "SELECT * FROM EMPLOYEE;\n",
    "```\n",
    "You should see something like below:\n",
    "![db-results](images/db_results.png)"
   ]
  },
  {
   "cell_type": "markdown",
   "metadata": {},
   "source": [
    "Let's try this exercise. How can we get the average salary by each department? We can execute query below;\n",
    "```\n",
    "SELECT department, AVG(salary) from EMPLOYEE group by department;\n",
    "```"
   ]
  },
  {
   "cell_type": "markdown",
   "metadata": {},
   "source": [
    "Now, let's try the query below:\n",
    "```\n",
    "SELECT department, name, salary, avg(salary) OVER (PARTITION BY department) FROM EMPLOYEE;\n",
    "```\n",
    "What is the difference between two queries? \n",
    "\n",
    "The first query cannot expose all the information in the table because it's simply applying `group by` operation. Using `OVER` and `PARTITION BY` clauses, you are able to split up the rows, partitioned by department, and then apply `AVG()` function within that partition."
   ]
  },
  {
   "cell_type": "markdown",
   "metadata": {},
   "source": [
    "### Summary\n",
    "\n",
    "In this example, we went over a very simple example to really see the difference between the `AVG()` function usage without _OVER_ clause. In the next lesson, we'll do a deeper dive into other window functions with the same dataset. "
   ]
  }
 ],
 "metadata": {
  "kernelspec": {
   "display_name": "Python 3",
   "language": "python",
   "name": "python3"
  },
  "language_info": {
   "codemirror_mode": {
    "name": "ipython",
    "version": 3
   },
   "file_extension": ".py",
   "mimetype": "text/x-python",
   "name": "python",
   "nbconvert_exporter": "python",
   "pygments_lexer": "ipython3",
   "version": "3.8.5"
  }
 },
 "nbformat": 4,
 "nbformat_minor": 4
}
